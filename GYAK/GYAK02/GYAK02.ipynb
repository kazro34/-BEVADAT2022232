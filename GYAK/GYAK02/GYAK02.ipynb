{
  "cells": [
    {
      "cell_type": "code",
      "execution_count": 2,
      "metadata": {
        "id": "HwIBa1_6sqFj"
      },
      "outputs": [],
      "source": [
        "import numpy as np"
      ]
    },
    {
      "cell_type": "code",
      "execution_count": null,
      "metadata": {
        "id": "Q2blGTAzsqFl"
      },
      "outputs": [],
      "source": [
        "#FONTOS!!!\n",
        "\n",
        "# CSAK OTT LEHET HASZNÁLNI FOR LOOP-OT AHOL A FELADAT KÜLÖN KÉRI!\n",
        "# [1,2,3,4] --> ezek az értékek np.array-ek. Ahol listát kérek paraméterként ott külön ki fogom emelni!\n",
        "# Ha végeztél a feladatokkal, akkor notebook-ot alakítsd át .py.\n",
        "# A FÁJLBAN CSAK A FÜGGVÉNYEK LEGYENEK! (KOMMENTEK MARADHATNAK)"
      ]
    },
    {
      "cell_type": "code",
      "execution_count": null,
      "metadata": {
        "id": "-7EvAE3VsqFs"
      },
      "outputs": [],
      "source": [
        "#Készíts egy függvényt ami létre hoz egy nullákkal teli numpy array-t.\n",
        "#Paraméterei: mérete (tuple-ként), default mérete pedig legyen egy (2,2)\n",
        "#Be: (2,2)\n",
        "#Ki: [[0,0],[0,0]]\n",
        "#create_array()"
      ]
    },
    {
      "cell_type": "code",
      "execution_count": 6,
      "metadata": {
        "id": "1WceytyosqFt"
      },
      "outputs": [],
      "source": [
        "def create_array(size: tuple) -> np.array:\n",
        "    return np.zeros(size)"
      ]
    },
    {
      "cell_type": "code",
      "execution_count": null,
      "metadata": {
        "id": "lmyu3PRMsqFt"
      },
      "outputs": [],
      "source": [
        "#Készíts egy függvényt ami a paraméterként kapott array-t főátlóját feltölti egyesekkel\n",
        "#Be: [[1,2],[3,4]]\n",
        "#Ki: [[1,2],[3,1]]\n",
        "#set_one()"
      ]
    },
    {
      "cell_type": "code",
      "execution_count": null,
      "metadata": {
        "id": "7stEA-_VsqFt"
      },
      "outputs": [],
      "source": [
        "def set_one(arr1:np.array) -> np.array:\n",
        "  return np.fill_diagonal(arr1,1)"
      ]
    },
    {
      "cell_type": "code",
      "execution_count": null,
      "metadata": {
        "id": "w3HieBi5sqFu"
      },
      "outputs": [],
      "source": [
        "# Készíts egy függvényt ami transzponálja a paraméterül kapott mártix-ot:\n",
        "# Be: [[1, 2], [3, 4]]\n",
        "# Ki: [[1, 3], [2, 4]]\n",
        "# do_transpose()"
      ]
    },
    {
      "cell_type": "code",
      "execution_count": null,
      "metadata": {
        "id": "7nHmREzjsqFu"
      },
      "outputs": [],
      "source": [
        "def do_transpose(arr1: np.array) -> np.array:\n",
        "  return arr1.transpose"
      ]
    },
    {
      "cell_type": "code",
      "execution_count": null,
      "metadata": {
        "id": "OySyFIOEsqFu"
      },
      "outputs": [],
      "source": [
        "# Készíts egy olyan függvényt ami az array-ben lévő értékeket N tizenedjegyik kerekíti, ha nincs megadva ez a paraméter, akkor legyen az alapértelmezett a kettő \n",
        "# Be: [0.1223, 0.1675], 2\n",
        "# Ki: [0.12, 0.17]\n",
        "# round_array()"
      ]
    },
    {
      "cell_type": "code",
      "execution_count": null,
      "metadata": {
        "id": "oNv9nKcGsqFu"
      },
      "outputs": [],
      "source": [
        "def round_array(arr1: np.array, ker:int) -> np.array:\n",
        "  return np.around(arr1, ker)"
      ]
    },
    {
      "cell_type": "code",
      "execution_count": null,
      "metadata": {
        "id": "PF-G8pUGsqFv"
      },
      "outputs": [],
      "source": [
        "# Készíts egy olyan függvényt, ami a bementként kapott 0 és 1 ből álló tömben a 0 - False-ra, az 1 True-ra cserélni\n",
        "# Be: [[1, 0, 0], [1, 1, 1],[0, 0, 0]]\n",
        "# Ki: [[ True False False], [ True  True  True], [False False False]]\n",
        "# bool_array()"
      ]
    },
    {
      "cell_type": "code",
      "execution_count": 13,
      "metadata": {
        "id": "oBA9XQNdsqFv"
      },
      "outputs": [],
      "source": [
        "def bool_array(arr1: np.array) -> np.array:\n",
        "    return arr1.astype(bool)"
      ]
    },
    {
      "cell_type": "code",
      "execution_count": null,
      "metadata": {
        "id": "WbKJSQYfsqFv"
      },
      "outputs": [],
      "source": [
        "# Készíts egy olyan függvényt, ami a bementként kapott 0 és 1 ből álló tömben a 1 - False-ra az 0 True-ra cserélni\n",
        "# Be: [[1, 0, 0], [1, 1, 1],[0, 0, 0]]\n",
        "# Ki: [[ False True True], [ False  False  False], [True True True]]\n",
        "# invert_bool_array()"
      ]
    },
    {
      "cell_type": "code",
      "execution_count": null,
      "metadata": {
        "id": "nVi8Y0-osqFv"
      },
      "outputs": [],
      "source": [
        "def invert_bool_array(arr1: np.array) -> np.array:\n",
        "  arr2=1-arr1\n",
        "  return arr2.astype(bool)"
      ]
    },
    {
      "cell_type": "code",
      "execution_count": null,
      "metadata": {
        "id": "jM42fmSSsqFw"
      },
      "outputs": [],
      "source": [
        "# Készíts egy olyan függvényt ami a paraméterként kapott array-t kilapítja\n",
        "# Be: [[1,2], [3,4]]\n",
        "# Ki: [1,2,3,4]\n",
        "# flatten()\n"
      ]
    },
    {
      "cell_type": "code",
      "execution_count": null,
      "metadata": {
        "id": "Ym7a-ZXJsqFw"
      },
      "outputs": [],
      "source": [
        "def flatten(arr1: np.array, arr2: np.array) -> np.array:\n",
        "  return np.concatenate((arr1, arr2))\n",
        "  \n"
      ]
    }
  ],
  "metadata": {
    "kernelspec": {
      "display_name": "Python 3",
      "language": "python",
      "name": "python3"
    },
    "language_info": {
      "codemirror_mode": {
        "name": "ipython",
        "version": 3
      },
      "file_extension": ".py",
      "mimetype": "text/x-python",
      "name": "python",
      "nbconvert_exporter": "python",
      "pygments_lexer": "ipython3",
      "version": "3.10.7"
    },
    "orig_nbformat": 4,
    "colab": {
      "provenance": []
    }
  },
  "nbformat": 4,
  "nbformat_minor": 0
}