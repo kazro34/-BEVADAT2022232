{
  "cells": [
    {
      "cell_type": "code",
      "execution_count": null,
      "metadata": {
        "id": "l7Czp3TS0sQi"
      },
      "outputs": [],
      "source": [
        "import numpy as np"
      ]
    },
    {
      "cell_type": "code",
      "execution_count": null,
      "metadata": {
        "id": "c0u043GH0sQl"
      },
      "outputs": [],
      "source": [
        "#FONTOS!!!\n",
        "\n",
        "# CSAK OTT LEHET HASZNÁLNI FOR LOOP-OT AHOL A FELADAT KÜLÖN KÉRI!\n",
        "# [1,2,3,4] --> ezek az értékek np.array-ek. Ahol listát kérek paraméterként ott külön ki fogom emelni!\n",
        "# Ha végeztél a feladatokkal, akkor notebook-ot alakítsd át .py.\n",
        "# A FÁJLBAN CSAK A FÜGGVÉNYEK LEGYENEK! (KOMMENTEK MARADHATNAK)"
      ]
    },
    {
      "cell_type": "code",
      "execution_count": null,
      "metadata": {
        "id": "UC1MZJNG0sQm"
      },
      "outputs": [],
      "source": [
        "# Írj egy olyan fügvényt, ami megfordítja egy 2d array oszlopait. Bemenetként egy array-t vár.\n",
        "# Be: [[1,2],[3,4]]\n",
        "# Ki: [[2,1],[4,3]]\n",
        "# column_swap()"
      ]
    },
    {
      "cell_type": "code",
      "source": [
        "def column_swap(input:np.array)->np.array:\n",
        "    input=np.fliplr(input)\n",
        "    return input"
      ],
      "metadata": {
        "id": "SOwgFZKw0tmY"
      },
      "execution_count": null,
      "outputs": []
    },
    {
      "cell_type": "code",
      "execution_count": null,
      "metadata": {
        "id": "BQdqtHyi0sQn"
      },
      "outputs": [],
      "source": [
        "# Készíts egy olyan függvényt ami összehasonlít két array-t és adjon vissza egy array-ben, hogy hol egyenlőek \n",
        "# Pl Be: [7,8,9], [9,8,7] \n",
        "# Ki: [1]\n",
        "# compare_two_array()\n",
        "# egyenlő elemszámúakra kell csak hogy működjön"
      ]
    },
    {
      "cell_type": "code",
      "source": [
        "def compare_two_array(input1:np.array, input2:np.array) ->np.array\n",
        "    return np.array(np.where(np.equal(input1,input2)))"
      ],
      "metadata": {
        "id": "Kybbqv3o0uAB"
      },
      "execution_count": null,
      "outputs": []
    },
    {
      "cell_type": "code",
      "execution_count": null,
      "metadata": {
        "id": "7ay9MnbY0sQn"
      },
      "outputs": [],
      "source": [
        "# Készíts egy olyan függvényt, ami vissza adja string-ként a megadott array dimenzióit:\n",
        "# Be: [[1,2,3], [4,5,6]]\n",
        "# Ki: \"sor: 2, oszlop: 3, melyseg: 1\"\n",
        "# get_array_shape()\n",
        "# 3D-vel még műküdnie kell!, "
      ]
    },
    {
      "cell_type": "code",
      "source": [
        "def get_array_shape(input:np.array):\n",
        "    if input.ndim==1:\n",
        "        return f\"sor: {input.shape[0]}, oszlop: 1, melyseg: 1\"\n",
        "    elif input.ndim==2:\n",
        "        return f\"sor: {input.shape[1]}, oszlop: {input.shape[0]}, melyseg: 1\"\n",
        "    elif input.ndim==3:\n",
        "        return f\"sor: {input.shape[2]}, oszlop: {input.shape[1]}, melyseg: {input.shape[0]}\"\n",
        "    else:\n",
        "        return \"incorrect input\""
      ],
      "metadata": {
        "id": "N7E9Ou650uVg"
      },
      "execution_count": null,
      "outputs": []
    },
    {
      "cell_type": "code",
      "execution_count": null,
      "metadata": {
        "id": "gznbORbH0sQo"
      },
      "outputs": [],
      "source": [
        "# Készíts egy olyan függvényt, aminek segítségével elő tudod állítani egy neurális hálózat tanításához szükséges pred-et egy numpy array-ből. \n",
        "# Bementként add meg az array-t, illetve hogy mennyi class-od van. Kimenetként pedig adjon vissza egy 2d array-t, ahol a sorok az egyes elemek. Minden nullákkal teli legyen és csak ott álljon egyes, ahol a bementi tömb megjelöli. \n",
        "# Pl. ha 1 van a bemeneten és 4 classod van, akkor az adott sorban az array-ban a [1] helyen álljon egy 1-es, a többi helyen pedig 0.\n",
        "# Be: [1, 2, 0, 3], 4\n",
        "# Ki: [[0,1,0,0], [0, 0, 1, 0], [1, 0, 0, 0], [0, 0, 0, 1]]\n",
        "# encode_Y()"
      ]
    },
    {
      "cell_type": "code",
      "source": [
        "def encode_Y(input:np.array, num:int)->np.array:\n",
        "    encoded=np.zeros((len(input),num))\n",
        "    encoded[np.arange(len(input)),input]=1\n",
        "    return encoded"
      ],
      "metadata": {
        "id": "TNysYHeq0vJI"
      },
      "execution_count": null,
      "outputs": []
    },
    {
      "cell_type": "code",
      "execution_count": null,
      "metadata": {
        "id": "utMoFPsD0sQp"
      },
      "outputs": [],
      "source": [
        "# A fenti feladatnak valósítsd meg a kiértékelését. Adj meg a 2d array-t és adj vissza a decodolt változatát\n",
        "# Be:  [[0,1,0,0], [0, 0, 1, 0], [1, 0, 0, 0], [0, 0, 0, 1]]\n",
        "# Ki:  [1, 2, 0, 3]\n",
        "# decode_Y()"
      ]
    },
    {
      "cell_type": "code",
      "source": [
        "def decode_Y(input:np.array)->np.array:\n",
        "    return np.argmax(input, axis=1)"
      ],
      "metadata": {
        "id": "4LrTRaNv0vx4"
      },
      "execution_count": null,
      "outputs": []
    },
    {
      "cell_type": "code",
      "execution_count": null,
      "metadata": {
        "id": "fYgf8jNe0sQp"
      },
      "outputs": [],
      "source": [
        "# Készíts egy olyan függvényt, ami képes kiértékelni egy neurális háló eredményét! Bemenetként egy listát és egy array-t és adja vissza azt az elemet, aminek a legnagyobb a valószínüsége(értéke) a listából.\n",
        "# Be: ['alma', 'körte', 'szilva'], [0.2, 0.2, 0.6]. # Az ['alma', 'körte', 'szilva'] egy lista!\n",
        "# Ki: 'szilva'\n",
        "# eval_classification()"
      ]
    },
    {
      "cell_type": "code",
      "source": [
        "def eval_classification(classes, prob):\n",
        "    return classes[np.argmax(prob)]"
      ],
      "metadata": {
        "id": "XjC38aZ_0wS_"
      },
      "execution_count": null,
      "outputs": []
    },
    {
      "cell_type": "code",
      "execution_count": null,
      "metadata": {
        "id": "X4Ds-DLL0sQp"
      },
      "outputs": [],
      "source": [
        "# Készíts egy olyan függvényt, ahol az 1D array-ben a páratlan számokat -1-re cseréli\n",
        "# Be: [1,2,3,4,5,6]\n",
        "# Ki: [-1,2,-1,4,-1,6]\n",
        "# replace_odd_numbers()"
      ]
    },
    {
      "cell_type": "code",
      "source": [
        "def replace_odd_numbers(input:np.array)->np.array:\n",
        "    return np.where(input % 2 == 1, -1, input_array)"
      ],
      "metadata": {
        "id": "K_gitFUT0wto"
      },
      "execution_count": null,
      "outputs": []
    },
    {
      "cell_type": "code",
      "execution_count": null,
      "metadata": {
        "id": "M4GWt6fp0sQq"
      },
      "outputs": [],
      "source": [
        "# Készíts egy olyan függvényt, ami egy array értékeit -1 és 1-re változtatja, attól függően, hogy az adott elem nagyobb vagy kisebb a paraméterként megadott számnál.\n",
        "# Ha a szám kisebb mint a megadott érték, akkor -1, ha nagyobb vagy egyenlő, akkor pedig 1.\n",
        "# Be: [1, 2, 5, 0], 2\n",
        "# Ki: [-1, 1, 1, -1]\n",
        "# replace_by_value()"
      ]
    },
    {
      "cell_type": "code",
      "source": [
        "def replace_by_value(input:np.array, num:int)->np.array:\n",
        "    return np.where(input >= num,1,-1)"
      ],
      "metadata": {
        "id": "JOgBDhh20xDQ"
      },
      "execution_count": null,
      "outputs": []
    },
    {
      "cell_type": "code",
      "execution_count": null,
      "metadata": {
        "id": "9IMTDV6V0sQr"
      },
      "outputs": [],
      "source": [
        "# Készíts egy olyan függvényt, ami egy array értékeit összeszorozza és az eredményt visszaadja\n",
        "# Be: [1,2,3,4]\n",
        "# Ki: 24\n",
        "# array_multi()\n",
        "# Ha több dimenziós a tömb, akkor az egész tömb elemeinek szorzatával térjen vissza"
      ]
    },
    {
      "cell_type": "code",
      "source": [
        "def array_multi(input:np.array)->int:\n",
        "    return np.prod(input)"
      ],
      "metadata": {
        "id": "EQWoQO7z0xpY"
      },
      "execution_count": null,
      "outputs": []
    },
    {
      "cell_type": "code",
      "execution_count": null,
      "metadata": {
        "id": "4FU8NNJk0sQr"
      },
      "outputs": [],
      "source": [
        "# Készíts egy olyan függvényt, ami egy 2D array értékeit összeszorozza és egy olyan array-el tér vissza, aminek az elemei a soroknak a szorzata\n",
        "# Be: [[1, 2], [3, 4]]\n",
        "# Ki: [2, 12]\n",
        "# array_multi_2d()"
      ]
    },
    {
      "cell_type": "code",
      "source": [
        "def array_multi_2d(input:np.array)->np.array:\n",
        "    return np.prod(input, axis=1)"
      ],
      "metadata": {
        "id": "lu4W535F0yEp"
      },
      "execution_count": null,
      "outputs": []
    },
    {
      "cell_type": "code",
      "execution_count": null,
      "metadata": {
        "id": "E8vY8R1X0sQs"
      },
      "outputs": [],
      "source": [
        "# Készíts egy olyan függvényt, amit egy meglévő numpy array-hez készít egy bordert nullásokkal. Bementként egy array-t várjon és kimenetként egy array jelenjen meg aminek van border-je\n",
        "# Be: [[1,2],[3,4]]\n",
        "# Ki: [[0,0,0,0],[0,1,2,0],[0,3,4,0],[0,0,0,0]]\n",
        "# add_border()\n"
      ]
    },
    {
      "cell_type": "code",
      "source": [
        "def add_border(input:np.array)->np.array:\n",
        "    return np.pad(input, pad_width=1)"
      ],
      "metadata": {
        "id": "uK5sj-jQ0y7q"
      },
      "execution_count": null,
      "outputs": []
    },
    {
      "cell_type": "code",
      "execution_count": null,
      "metadata": {
        "id": "rWTWiHkb0sQs"
      },
      "outputs": [],
      "source": [
        "# A KÖTVETKEZŐ FELADATOKHOZ NÉZZÉTEK MEG A NUMPY DATA TYPE-JÁT!"
      ]
    },
    {
      "cell_type": "code",
      "execution_count": null,
      "metadata": {
        "id": "ok_zPrJf0sQs"
      },
      "outputs": [],
      "source": [
        "# Készíts egy olyan függvényt ami két dátum között felsorolja az összes napot és ezt adja vissza egy numpy array-ben. A fgv ként str vár paraméterként 'YYYY-MM' formában.\n",
        "# Be: '2023-03', '2023-04'  # mind a kettő paraméter str.\n",
        "# Ki: ['2023-03-01', '2023-03-02', .. , '2023-03-31',]\n",
        "# list_days()"
      ]
    },
    {
      "cell_type": "code",
      "source": [
        "def list_days(date1:np.datetime64,date2:np.datetime64)->np.array:\n",
        "    return np.arange(date1,date2,dtype='datetime64[D]')"
      ],
      "metadata": {
        "id": "NG9u8oj_0zqB"
      },
      "execution_count": null,
      "outputs": []
    },
    {
      "cell_type": "code",
      "execution_count": null,
      "metadata": {
        "id": "7z_jc35g0sQt"
      },
      "outputs": [],
      "source": [
        "# Írj egy fügvényt ami vissza adja az aktuális dátumot az alábbi formában: YYYY-MM-DD. Térjen vissza egy 'numpy.datetime64' típussal.\n",
        "# Be:\n",
        "# Ki: 2017-03-24\n",
        "# get_act_date()"
      ]
    },
    {
      "cell_type": "code",
      "source": [
        "def current_date():\n",
        "    date_np.datetime64('now','D')\n",
        "    return np.datetime_as_string(date)"
      ],
      "metadata": {
        "id": "SdxD4PhX00PR"
      },
      "execution_count": null,
      "outputs": []
    },
    {
      "cell_type": "code",
      "execution_count": null,
      "metadata": {
        "id": "IF1PRhZB0sQt"
      },
      "outputs": [],
      "source": [
        "# Írj egy olyan függvényt ami visszadja, hogy mennyi másodperc telt el 1970 január 01. 00:02:00 óta. Int-el térjen vissza\n",
        "# Be: \n",
        "# Ki: másodpercben az idó, int-é kasztolva\n",
        "# sec_from_1970()"
      ]
    },
    {
      "cell_type": "code",
      "source": [
        "def sec_from_1970()->int:\n",
        "    date=(np.datetime64('now')-np.datetime64('1970-01-01T00:02:00'))\n",
        "    return int(date.item().total_seconds())"
      ],
      "metadata": {
        "id": "FniMle1a00hg"
      },
      "execution_count": null,
      "outputs": []
    }
  ],
  "metadata": {
    "kernelspec": {
      "display_name": "Python 3",
      "language": "python",
      "name": "python3"
    },
    "language_info": {
      "codemirror_mode": {
        "name": "ipython",
        "version": 3
      },
      "file_extension": ".py",
      "mimetype": "text/x-python",
      "name": "python",
      "nbconvert_exporter": "python",
      "pygments_lexer": "ipython3",
      "version": "3.10.7"
    },
    "orig_nbformat": 4,
    "colab": {
      "provenance": []
    }
  },
  "nbformat": 4,
  "nbformat_minor": 0
}